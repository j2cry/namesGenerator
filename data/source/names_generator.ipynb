{
 "cells": [
  {
   "cell_type": "code",
   "execution_count": 1,
   "id": "01c056e9",
   "metadata": {},
   "outputs": [],
   "source": [
    "import json\n",
    "import pandas as pd"
   ]
  },
  {
   "cell_type": "code",
   "execution_count": 7,
   "id": "7828b521",
   "metadata": {},
   "outputs": [
    {
     "name": "stdout",
     "output_type": "stream",
     "text": [
      "done.\n"
     ]
    }
   ],
   "source": [
    "def build_csv(fsource, fdest):\n",
    "    names_list = []\n",
    "    with open(fsource, 'r', encoding='utf-8') as file:\n",
    "        data = file.readline()\n",
    "        while data:\n",
    "            json_row = json.loads(data)\n",
    "            json_row.pop('regorg')\n",
    "            json_row.pop('regfl')\n",
    "            if 'gender_p' in json_row.keys():\n",
    "                json_row.pop('gender_p')\n",
    "            names_list.append(json_row)\n",
    "            data = file.readline()\n",
    "    df = pd.DataFrame(names_list)\n",
    "    df.to_csv(fdest, encoding='utf-8', index=False)\n",
    "\n",
    "build_csv('names_table.jsonl', 'names.csv')\n",
    "build_csv('surnames_table.jsonl', 'surnames.csv')\n",
    "build_csv('midnames_table.jsonl', 'midnames.csv')\n",
    "print('done.')"
   ]
  },
  {
   "cell_type": "code",
   "execution_count": 17,
   "id": "2072f1af",
   "metadata": {},
   "outputs": [],
   "source": [
    "names = pd.read_csv('names.csv')\n",
    "surnames = pd.read_csv('surnames.csv')\n",
    "midnames = pd.read_csv('midnames.csv')"
   ]
  },
  {
   "cell_type": "code",
   "execution_count": 11,
   "id": "61a43b0d",
   "metadata": {},
   "outputs": [
    {
     "data": {
      "text/html": [
       "<div>\n",
       "<style scoped>\n",
       "    .dataframe tbody tr th:only-of-type {\n",
       "        vertical-align: middle;\n",
       "    }\n",
       "\n",
       "    .dataframe tbody tr th {\n",
       "        vertical-align: top;\n",
       "    }\n",
       "\n",
       "    .dataframe thead th {\n",
       "        text-align: right;\n",
       "    }\n",
       "</style>\n",
       "<table border=\"1\" class=\"dataframe\">\n",
       "  <thead>\n",
       "    <tr style=\"text-align: right;\">\n",
       "      <th></th>\n",
       "      <th>text</th>\n",
       "      <th>num</th>\n",
       "      <th>fname</th>\n",
       "      <th>lett</th>\n",
       "      <th>gender</th>\n",
       "    </tr>\n",
       "  </thead>\n",
       "  <tbody>\n",
       "    <tr>\n",
       "      <th>0</th>\n",
       "      <td>Владимирович</td>\n",
       "      <td>1292409</td>\n",
       "      <td>Владимир</td>\n",
       "      <td>В</td>\n",
       "      <td>m</td>\n",
       "    </tr>\n",
       "    <tr>\n",
       "      <th>1</th>\n",
       "      <td>Александрович</td>\n",
       "      <td>1281094</td>\n",
       "      <td>Александр</td>\n",
       "      <td>А</td>\n",
       "      <td>m</td>\n",
       "    </tr>\n",
       "    <tr>\n",
       "      <th>2</th>\n",
       "      <td>Николаевич</td>\n",
       "      <td>1119772</td>\n",
       "      <td>Николай</td>\n",
       "      <td>Н</td>\n",
       "      <td>m</td>\n",
       "    </tr>\n",
       "    <tr>\n",
       "      <th>3</th>\n",
       "      <td>Викторович</td>\n",
       "      <td>743783</td>\n",
       "      <td>Виктор</td>\n",
       "      <td>В</td>\n",
       "      <td>m</td>\n",
       "    </tr>\n",
       "    <tr>\n",
       "      <th>4</th>\n",
       "      <td>Сергеевич</td>\n",
       "      <td>686685</td>\n",
       "      <td>Сергей</td>\n",
       "      <td>С</td>\n",
       "      <td>m</td>\n",
       "    </tr>\n",
       "  </tbody>\n",
       "</table>\n",
       "</div>"
      ],
      "text/plain": [
       "            text      num      fname lett gender\n",
       "0   Владимирович  1292409   Владимир    В      m\n",
       "1  Александрович  1281094  Александр    А      m\n",
       "2     Николаевич  1119772    Николай    Н      m\n",
       "3     Викторович   743783     Виктор    В      m\n",
       "4      Сергеевич   686685     Сергей    С      m"
      ]
     },
     "execution_count": 11,
     "metadata": {},
     "output_type": "execute_result"
    }
   ],
   "source": [
    "midnames.head()"
   ]
  },
  {
   "cell_type": "code",
   "execution_count": 90,
   "id": "981bafa7",
   "metadata": {},
   "outputs": [],
   "source": [
    "# settings\n",
    "gender = 'm'\n",
    "name_letter = 'В'\n",
    "midname_letter = 'А'\n",
    "ages = [83,]"
   ]
  },
  {
   "cell_type": "code",
   "execution_count": 99,
   "id": "78b7f1b7",
   "metadata": {},
   "outputs": [],
   "source": [
    "def random_names(name_letters, midname_letters, ages):\n",
    "    result = []\n",
    "    for nl, ml, age in zip(name_letters, midname_letters, ages):\n",
    "        name_cond = (names['gender'] == gender) & (names['lett'] == nl.upper())\n",
    "        midname_cond = (midnames['gender'] == gender) & (midnames['lett'] == ml.upper())    \n",
    "        name_weights = names.loc[name_cond, 'num'] / names.loc[name_cond, 'num'].sum()\n",
    "        midname_weights = midnames.loc[midname_cond, 'num'] / midnames.loc[midname_cond, 'num'].sum()\n",
    "        name = names[name_cond].sample(weights=name_weights)\n",
    "        midname = midnames[midname_cond].sample(weights=midname_weights)\n",
    "        result.append({'name': name, 'patronymic': midname, 'birthday': age})\n",
    "    return result"
   ]
  },
  {
   "cell_type": "code",
   "execution_count": 104,
   "id": "1c988cfb",
   "metadata": {},
   "outputs": [
    {
     "data": {
      "text/plain": [
       "[{'name':        text     num lett gender\n",
       "  19  Валерий  280628    В      m,\n",
       "  'patronymic':        text     num fname lett gender\n",
       "  7  Иванович  630171  Иван    И      m,\n",
       "  'birthday': 61},\n",
       " {'name':     text     num lett gender\n",
       "  46  Илья  110504    И      m,\n",
       "  'patronymic':           text     num    fname lett gender\n",
       "  22  Евгеньевич  276696  Евгений    Е      m,\n",
       "  'birthday': 22}]"
      ]
     },
     "execution_count": 104,
     "metadata": {},
     "output_type": "execute_result"
    }
   ],
   "source": [
    "random_names('ви', 'Ие', [61, 22])"
   ]
  },
  {
   "cell_type": "code",
   "execution_count": 116,
   "id": "64cff880",
   "metadata": {},
   "outputs": [
    {
     "data": {
      "text/plain": [
       "0        Владимирович\n",
       "1       Александрович\n",
       "2          Николаевич\n",
       "3          Викторович\n",
       "4           Сергеевич\n",
       "            ...      \n",
       "7035       Файвелевич\n",
       "7036       Жигжитович\n",
       "7037    Гаптолхакович\n",
       "7038     Нафигуллович\n",
       "7039    Алескандрович\n",
       "Name: text, Length: 7040, dtype: object"
      ]
     },
     "execution_count": 116,
     "metadata": {},
     "output_type": "execute_result"
    }
   ],
   "source": [
    "midnames.loc[[True] * midnames.shape[0], 'text']"
   ]
  },
  {
   "cell_type": "code",
   "execution_count": 47,
   "id": "08cb51a7",
   "metadata": {},
   "outputs": [
    {
     "data": {
      "text/plain": [
       "70"
      ]
     },
     "execution_count": 47,
     "metadata": {},
     "output_type": "execute_result"
    }
   ],
   "source": [
    "# вычисление возраста по дате\n",
    "from dateutil.relativedelta import relativedelta\n",
    "from datetime import date, timedelta\n",
    "from random import randrange\n",
    "\n",
    "relativedelta(date.today(), date.fromisoformat('1951-11-17')).years"
   ]
  },
  {
   "cell_type": "code",
   "execution_count": 71,
   "id": "cf416bb2",
   "metadata": {},
   "outputs": [
    {
     "data": {
      "text/plain": [
       "datetime.date(1951, 10, 25)"
      ]
     },
     "execution_count": 71,
     "metadata": {},
     "output_type": "execute_result"
    }
   ],
   "source": [
    "# рандомизация даты по возрасту\n",
    "\n",
    "from datetime import date, timedelta\n",
    "from random import randrange\n",
    "\n",
    "age = 70\n",
    "\n",
    "rbound = date(date.today().year - age, date.today().month, date.today().day)\n",
    "lbound = date(date.today().year - age - 1, date.today().month, date.today().day + 1)\n",
    "delta = rbound - lbound\n",
    "lbound + timedelta(days=randrange(delta.days))\n"
   ]
  }
 ],
 "metadata": {
  "kernelspec": {
   "display_name": "Python 3",
   "language": "python",
   "name": "python3"
  },
  "language_info": {
   "codemirror_mode": {
    "name": "ipython",
    "version": 3
   },
   "file_extension": ".py",
   "mimetype": "text/x-python",
   "name": "python",
   "nbconvert_exporter": "python",
   "pygments_lexer": "ipython3",
   "version": "3.8.8"
  }
 },
 "nbformat": 4,
 "nbformat_minor": 5
}
